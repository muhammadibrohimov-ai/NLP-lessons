{
 "cells": [
  {
   "cell_type": "markdown",
   "id": "997e8314-fe34-4b6d-b6c9-8449c98a8dfe",
   "metadata": {},
   "source": [
    "### Word tokenization"
   ]
  },
  {
   "cell_type": "markdown",
   "id": "ead13901-b7f0-4c90-b451-cfb685f8bd8a",
   "metadata": {},
   "source": [
    "#### NLTK"
   ]
  },
  {
   "cell_type": "code",
   "execution_count": 3,
   "id": "7c752cd7-e13c-42aa-8017-4372e08469b9",
   "metadata": {},
   "outputs": [
    {
     "name": "stderr",
     "output_type": "stream",
     "text": [
      "[nltk_data] Downloading package punkt to /Users/miuceo/nltk_data...\n",
      "[nltk_data]   Package punkt is already up-to-date!\n",
      "[nltk_data] Downloading package wordnet to /Users/miuceo/nltk_data...\n",
      "[nltk_data] Downloading package omw-1.4 to /Users/miuceo/nltk_data...\n"
     ]
    },
    {
     "data": {
      "text/plain": [
       "True"
      ]
     },
     "execution_count": 3,
     "metadata": {},
     "output_type": "execute_result"
    }
   ],
   "source": [
    "import nltk\n",
    "\n",
    "# nltk.download('punkt')\n",
    "\n",
    "# nltk.download('wordnet')\n",
    "\n",
    "# nltk.download('omw-1.4')"
   ]
  },
  {
   "cell_type": "code",
   "execution_count": 4,
   "id": "17d2760a-89d7-428f-92c2-064c2b00d15a",
   "metadata": {},
   "outputs": [
    {
     "data": {
      "text/plain": [
       "['Hello', ',', 'how', 'are', 'you.', 'I', 'am', 'learning', 'NLP', '!']"
      ]
     },
     "execution_count": 4,
     "metadata": {},
     "output_type": "execute_result"
    }
   ],
   "source": [
    "import nltk\n",
    "from nltk.tokenize import word_tokenize\n",
    "\n",
    "text = 'Hello, how are you. I am learning NLP!'\n",
    "\n",
    "words = word_tokenize(text, language = 'english', preserve_line = True)\n",
    "words"
   ]
  },
  {
   "cell_type": "code",
   "execution_count": 5,
   "id": "e0c046ec-2870-422b-a404-512bc6b807a3",
   "metadata": {},
   "outputs": [
    {
     "data": {
      "text/plain": [
       "['Assalomu',\n",
       " 'alaykum',\n",
       " '!',\n",
       " 'Mening',\n",
       " 'ismim',\n",
       " 'Muhammadjon',\n",
       " ',',\n",
       " 'men',\n",
       " 'NLP',\n",
       " \"o'rganyappan\",\n",
       " '!']"
      ]
     },
     "execution_count": 5,
     "metadata": {},
     "output_type": "execute_result"
    }
   ],
   "source": [
    "import nltk\n",
    "from nltk.tokenize import word_tokenize\n",
    "\n",
    "text = \"Assalomu alaykum! Mening ismim Muhammadjon, men NLP o'rganyappan!\"\n",
    "\n",
    "words = word_tokenize(text, language = 'english', preserve_line = True)\n",
    "words"
   ]
  },
  {
   "cell_type": "code",
   "execution_count": 10,
   "id": "4a55ab8e-5872-40e5-b1e2-caf60bb7d3df",
   "metadata": {},
   "outputs": [
    {
     "data": {
      "text/plain": [
       "['This',\n",
       " 'is',\n",
       " 'a',\n",
       " 'simple',\n",
       " '#text',\n",
       " ':)',\n",
       " '<--->',\n",
       " ':-P',\n",
       " '<3',\n",
       " 'and',\n",
       " 'some',\n",
       " 'arrows',\n",
       " '<',\n",
       " '>',\n",
       " '</>',\n",
       " '<->',\n",
       " '<---']"
      ]
     },
     "execution_count": 10,
     "metadata": {},
     "output_type": "execute_result"
    }
   ],
   "source": [
    "from nltk.tokenize import TweetTokenizer\n",
    "\n",
    "tokenizer = TweetTokenizer()\n",
    "text = \"This is a simple #text :) <---> :-P <3 and some arrows < > </> <-> <----\"\n",
    "tokenized_words = tokenizer.tokenize(text)\n",
    "tokenized_words"
   ]
  },
  {
   "cell_type": "markdown",
   "id": "561a7c3e-4e40-46b9-ba72-eb185226cf64",
   "metadata": {},
   "source": [
    "### Spacy"
   ]
  },
  {
   "cell_type": "code",
   "execution_count": 12,
   "id": "0f61779d-4948-4872-aa88-810fdf8b4473",
   "metadata": {},
   "outputs": [
    {
     "data": {
      "text/plain": [
       "['Hello', '!', 'How', 'are', 'you', '.', 'I', 'am', 'learning', 'NLP', '!']"
      ]
     },
     "execution_count": 12,
     "metadata": {},
     "output_type": "execute_result"
    }
   ],
   "source": [
    "import spacy\n",
    "\n",
    "# !python -m spacy download en_core_web_sm\n",
    "\n",
    "nlp = spacy.load('en_core_web_sm')\n",
    "\n",
    "text = 'Hello! How are you. I am learning NLP!'\n",
    "doc = nlp(text)\n",
    "\n",
    "words = [token.text for token in doc]\n",
    "words"
   ]
  },
  {
   "cell_type": "markdown",
   "id": "c575c418-b56f-4871-b29e-cbe5f855abf8",
   "metadata": {},
   "source": [
    "### Sentence tokenization"
   ]
  },
  {
   "cell_type": "markdown",
   "id": "a34c0203-2426-4666-a61a-eacb74e53a3f",
   "metadata": {},
   "source": [
    "#### NLTK"
   ]
  },
  {
   "cell_type": "code",
   "execution_count": 14,
   "id": "1ee71e90-bb6d-445e-8b77-cb5def1b79e7",
   "metadata": {},
   "outputs": [
    {
     "data": {
      "text/plain": [
       "['Hello!',\n",
       " 'My name is Muhammadjon Ibrohimov.',\n",
       " 'I am Data Scientist.',\n",
       " 'I am currently learning NLP.']"
      ]
     },
     "execution_count": 14,
     "metadata": {},
     "output_type": "execute_result"
    }
   ],
   "source": [
    "from nltk.tokenize import PunktSentenceTokenizer\n",
    "\n",
    "data = \"Hello! My name is Muhammadjon Ibrohimov. I am Data Scientist. I am currently learning NLP.\"\n",
    "\n",
    "custom_sent_tokenize = PunktSentenceTokenizer(data)\n",
    "tokenized = custom_sent_tokenize.tokenize(data)\n",
    "tokenized"
   ]
  },
  {
   "cell_type": "code",
   "execution_count": 17,
   "id": "07c5aa00-fe84-4add-96a0-d75835f5397d",
   "metadata": {},
   "outputs": [
    {
     "data": {
      "text/plain": [
       "1"
      ]
     },
     "execution_count": 17,
     "metadata": {},
     "output_type": "execute_result"
    }
   ],
   "source": [
    "len([data])"
   ]
  },
  {
   "cell_type": "code",
   "execution_count": 18,
   "id": "9e5c3515-d481-4d65-8b6d-50190742779e",
   "metadata": {},
   "outputs": [
    {
     "data": {
      "text/plain": [
       "4"
      ]
     },
     "execution_count": 18,
     "metadata": {},
     "output_type": "execute_result"
    }
   ],
   "source": [
    "len(tokenized)"
   ]
  },
  {
   "cell_type": "markdown",
   "id": "e6a0ebbd-89c9-446a-ad8b-8ca4b44349ae",
   "metadata": {},
   "source": [
    "### Spacy"
   ]
  },
  {
   "cell_type": "code",
   "execution_count": 20,
   "id": "7db8ca71-ac9c-455c-935f-f16ec52c4853",
   "metadata": {},
   "outputs": [
    {
     "data": {
      "text/plain": [
       "[Hello!,\n",
       " My name is Muhammadjon Ibrohimov.,\n",
       " I am Data Scientist.,\n",
       " I am currently learning NLP.]"
      ]
     },
     "execution_count": 20,
     "metadata": {},
     "output_type": "execute_result"
    }
   ],
   "source": [
    "import spacy\n",
    "\n",
    "nlp = spacy.load('en_core_web_sm')\n",
    "\n",
    "data = \"Hello! My name is Muhammadjon Ibrohimov. I am Data Scientist. I am currently learning NLP.\"\n",
    "doc = nlp(data)\n",
    "\n",
    "sentences = list(doc.sents)\n",
    "sentences"
   ]
  },
  {
   "cell_type": "code",
   "execution_count": null,
   "id": "2bb26121-2c3e-43ef-97df-c097e50700d5",
   "metadata": {},
   "outputs": [],
   "source": []
  }
 ],
 "metadata": {
  "kernelspec": {
   "display_name": "Python 3 (ipykernel)",
   "language": "python",
   "name": "python3"
  },
  "language_info": {
   "codemirror_mode": {
    "name": "ipython",
    "version": 3
   },
   "file_extension": ".py",
   "mimetype": "text/x-python",
   "name": "python",
   "nbconvert_exporter": "python",
   "pygments_lexer": "ipython3",
   "version": "3.11.9"
  }
 },
 "nbformat": 4,
 "nbformat_minor": 5
}
