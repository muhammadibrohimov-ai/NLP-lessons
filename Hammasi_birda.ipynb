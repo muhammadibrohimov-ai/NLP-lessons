{
 "cells": [
  {
   "cell_type": "code",
   "execution_count": 4,
   "id": "db8043ce-00b2-478c-9c97-e34e75e8ebc1",
   "metadata": {},
   "outputs": [],
   "source": [
    "import pandas as pd\n",
    "import numpy as np\n",
    "import matplotlib.pyplot as plt\n",
    "import seaborn as sns\n",
    "%matplotlib inline\n",
    "\n",
    "from sklearn.model_selection import train_test_split, cross_val_score\n",
    "from sklearn.preprocessing import LabelEncoder, StandardScaler\n",
    "from sklearn.pipeline import Pipeline\n",
    "\n",
    "from sklearn.linear_model import LogisticRegression\n",
    "from sklearn.svm import SVC\n",
    "from sklearn.neighbors import KNeighborsClassifier\n",
    "from sklearn.naive_bayes import GaussianNB\n",
    "from sklearn.ensemble import RandomForestClassifier\n",
    "from sklearn.tree import DecisionTreeClassifier\n",
    "\n",
    "from sklearn.metrics import accuracy_score, classification_report, confusion_matrix"
   ]
  },
  {
   "cell_type": "code",
   "execution_count": 16,
   "id": "fa2a25f0-dbf3-42a5-93ad-8e1fae95553b",
   "metadata": {},
   "outputs": [
    {
     "data": {
      "text/html": [
       "<div>\n",
       "<style scoped>\n",
       "    .dataframe tbody tr th:only-of-type {\n",
       "        vertical-align: middle;\n",
       "    }\n",
       "\n",
       "    .dataframe tbody tr th {\n",
       "        vertical-align: top;\n",
       "    }\n",
       "\n",
       "    .dataframe thead th {\n",
       "        text-align: right;\n",
       "    }\n",
       "</style>\n",
       "<table border=\"1\" class=\"dataframe\">\n",
       "  <thead>\n",
       "    <tr style=\"text-align: right;\">\n",
       "      <th></th>\n",
       "      <th>Hususiyat_1</th>\n",
       "      <th>Hususiyat_2</th>\n",
       "      <th>Hususiyat_3</th>\n",
       "      <th>Hususiyat_4</th>\n",
       "      <th>Hususiyat_5</th>\n",
       "      <th>Hususiyat_6</th>\n",
       "      <th>Hususiyat_7</th>\n",
       "      <th>Hususiyat_8</th>\n",
       "      <th>Hususiyat_9</th>\n",
       "      <th>Hususiyat_10</th>\n",
       "      <th>target</th>\n",
       "    </tr>\n",
       "  </thead>\n",
       "  <tbody>\n",
       "    <tr>\n",
       "      <th>0</th>\n",
       "      <td>-2.568916</td>\n",
       "      <td>-0.257409</td>\n",
       "      <td>-2.679357</td>\n",
       "      <td>3.864818</td>\n",
       "      <td>2.564998</td>\n",
       "      <td>-0.737556</td>\n",
       "      <td>-3.330985</td>\n",
       "      <td>-1.213370</td>\n",
       "      <td>-1.473105</td>\n",
       "      <td>-0.846386</td>\n",
       "      <td>1</td>\n",
       "    </tr>\n",
       "    <tr>\n",
       "      <th>1</th>\n",
       "      <td>0.622861</td>\n",
       "      <td>0.534544</td>\n",
       "      <td>0.018283</td>\n",
       "      <td>-0.283382</td>\n",
       "      <td>1.907637</td>\n",
       "      <td>-0.341310</td>\n",
       "      <td>1.206240</td>\n",
       "      <td>-1.093532</td>\n",
       "      <td>-0.469791</td>\n",
       "      <td>-0.188022</td>\n",
       "      <td>1</td>\n",
       "    </tr>\n",
       "    <tr>\n",
       "      <th>2</th>\n",
       "      <td>-0.171251</td>\n",
       "      <td>-0.496278</td>\n",
       "      <td>1.613347</td>\n",
       "      <td>2.488069</td>\n",
       "      <td>-1.677966</td>\n",
       "      <td>0.303604</td>\n",
       "      <td>-2.104579</td>\n",
       "      <td>0.714531</td>\n",
       "      <td>3.475999</td>\n",
       "      <td>0.623386</td>\n",
       "      <td>0</td>\n",
       "    </tr>\n",
       "    <tr>\n",
       "      <th>3</th>\n",
       "      <td>0.519354</td>\n",
       "      <td>-0.333946</td>\n",
       "      <td>-0.547530</td>\n",
       "      <td>-1.391319</td>\n",
       "      <td>-0.011294</td>\n",
       "      <td>0.212820</td>\n",
       "      <td>1.296832</td>\n",
       "      <td>0.716046</td>\n",
       "      <td>0.890619</td>\n",
       "      <td>-1.844461</td>\n",
       "      <td>0</td>\n",
       "    </tr>\n",
       "    <tr>\n",
       "      <th>4</th>\n",
       "      <td>2.346402</td>\n",
       "      <td>-0.699965</td>\n",
       "      <td>-0.203251</td>\n",
       "      <td>-0.256745</td>\n",
       "      <td>-1.974251</td>\n",
       "      <td>0.619663</td>\n",
       "      <td>-1.247950</td>\n",
       "      <td>-1.662115</td>\n",
       "      <td>3.921452</td>\n",
       "      <td>-0.759491</td>\n",
       "      <td>0</td>\n",
       "    </tr>\n",
       "  </tbody>\n",
       "</table>\n",
       "</div>"
      ],
      "text/plain": [
       "   Hususiyat_1  Hususiyat_2  Hususiyat_3  Hususiyat_4  Hususiyat_5  \\\n",
       "0    -2.568916    -0.257409    -2.679357     3.864818     2.564998   \n",
       "1     0.622861     0.534544     0.018283    -0.283382     1.907637   \n",
       "2    -0.171251    -0.496278     1.613347     2.488069    -1.677966   \n",
       "3     0.519354    -0.333946    -0.547530    -1.391319    -0.011294   \n",
       "4     2.346402    -0.699965    -0.203251    -0.256745    -1.974251   \n",
       "\n",
       "   Hususiyat_6  Hususiyat_7  Hususiyat_8  Hususiyat_9  Hususiyat_10  target  \n",
       "0    -0.737556    -3.330985    -1.213370    -1.473105     -0.846386       1  \n",
       "1    -0.341310     1.206240    -1.093532    -0.469791     -0.188022       1  \n",
       "2     0.303604    -2.104579     0.714531     3.475999      0.623386       0  \n",
       "3     0.212820     1.296832     0.716046     0.890619     -1.844461       0  \n",
       "4     0.619663    -1.247950    -1.662115     3.921452     -0.759491       0  "
      ]
     },
     "execution_count": 16,
     "metadata": {},
     "output_type": "execute_result"
    }
   ],
   "source": [
    "from sklearn.datasets import make_classification\n",
    "\n",
    "X, y = make_classification(\n",
    "    n_samples = 1000,\n",
    "    n_features = 10, \n",
    "    n_informative = 5,\n",
    "    n_redundant = 2,\n",
    "    n_classes = 3,\n",
    "    weights = [0.4, 0.35, 0.25],\n",
    "    random_state = 42,\n",
    ")\n",
    "\n",
    "cols = [f'Hususiyat_{i+1}' for i in range(len(X[0]))]\n",
    "df = pd.DataFrame(X, columns = cols)\n",
    "df['target'] = y\n",
    "df.head()"
   ]
  },
  {
   "cell_type": "code",
   "execution_count": 18,
   "id": "b529cf62-eac5-41a8-a68c-89095e8ec204",
   "metadata": {},
   "outputs": [
    {
     "data": {
      "text/plain": [
       "target\n",
       "0    396\n",
       "1    352\n",
       "2    252\n",
       "Name: count, dtype: int64"
      ]
     },
     "execution_count": 18,
     "metadata": {},
     "output_type": "execute_result"
    }
   ],
   "source": [
    "df.target.value_counts()"
   ]
  },
  {
   "cell_type": "code",
   "execution_count": 19,
   "id": "4b326724-1eab-4aec-92d5-59262cc32a3c",
   "metadata": {},
   "outputs": [
    {
     "name": "stdout",
     "output_type": "stream",
     "text": [
      "(800, 10)\n",
      "(200, 10)\n",
      "(800,)\n",
      "(200,)\n"
     ]
    }
   ],
   "source": [
    "X_train, X_test, y_train, y_test = train_test_split(X, y, test_size = 0.2, random_state=42)\n",
    "print(X_train.shape, X_test.shape, y_train.shape, y_test.shape, sep='\\n')"
   ]
  },
  {
   "cell_type": "code",
   "execution_count": 21,
   "id": "6b4716bd-0e07-4ef9-b6fb-20e896e4731e",
   "metadata": {},
   "outputs": [],
   "source": [
    "models = {\n",
    "    'Logistic_Regression' : LogisticRegression(max_iter=200),\n",
    "    'SVM_linear' : SVC(kernel = 'linear'),\n",
    "    'SVM_rbf' : SVC(kernel = 'rbf'),\n",
    "    'KNN' : KNeighborsClassifier(n_neighbors=5),\n",
    "    'Random Forest' : RandomForestClassifier(n_estimators=100),\n",
    "    'Tree model' : DecisionTreeClassifier(),\n",
    "    'Naive Bayes' : GaussianNB(),\n",
    "}\n",
    "\n",
    "results = []\n",
    "for model_name, models in models.items():\n",
    "    pipeline = Pipeline([\n",
    "        ('std_scaler', StandartScaler()),\n",
    "        ('encoder', LabelEncoder()),\n",
    "    ])\n",
    "\n"
   ]
  },
  {
   "cell_type": "code",
   "execution_count": null,
   "id": "1575c31b-349c-44e5-aac5-7006b4633ee8",
   "metadata": {},
   "outputs": [],
   "source": []
  }
 ],
 "metadata": {
  "kernelspec": {
   "display_name": "Python 3 (ipykernel)",
   "language": "python",
   "name": "python3"
  },
  "language_info": {
   "codemirror_mode": {
    "name": "ipython",
    "version": 3
   },
   "file_extension": ".py",
   "mimetype": "text/x-python",
   "name": "python",
   "nbconvert_exporter": "python",
   "pygments_lexer": "ipython3",
   "version": "3.11.9"
  }
 },
 "nbformat": 4,
 "nbformat_minor": 5
}
