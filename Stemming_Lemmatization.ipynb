{
 "cells": [
  {
   "cell_type": "markdown",
   "id": "47db65a6-2e1f-4f18-9ac7-34ca5f152ebd",
   "metadata": {},
   "source": [
    "# Matndagi so'zlarni o'zaklash"
   ]
  },
  {
   "cell_type": "markdown",
   "id": "462da1dc-0527-4206-869a-8da9a2611430",
   "metadata": {},
   "source": [
    "## NLTK\n",
    "\n",
    "### stemming"
   ]
  },
  {
   "cell_type": "code",
   "execution_count": 2,
   "id": "0acf62d9-22fc-4acc-ae10-f5e3d231f667",
   "metadata": {},
   "outputs": [
    {
     "data": {
      "text/plain": [
       "['run', 'runner', 'ran', 'easili', 'cat']"
      ]
     },
     "execution_count": 2,
     "metadata": {},
     "output_type": "execute_result"
    }
   ],
   "source": [
    "import nltk\n",
    "\n",
    "from nltk.stem import PorterStemmer # class\n",
    "\n",
    "stemmer = PorterStemmer() # object\n",
    "\n",
    "words = [\"running\", \"runner\", \"ran\", \"easily\", \"cats\"] # so'zlar\n",
    "\n",
    "stems = []\n",
    "\n",
    "for word in words:\n",
    "    stemmed_word = stemmer.stem(word) # stemmer.stem() method\n",
    "    stems.append(stemmed_word)\n",
    "\n",
    "stems"
   ]
  },
  {
   "cell_type": "markdown",
   "id": "c9715ad8-84ca-4cee-8a06-fe73efd50f2d",
   "metadata": {},
   "source": [
    "## NLTK\n",
    "\n",
    "### lemmatization"
   ]
  },
  {
   "cell_type": "code",
   "execution_count": 10,
   "id": "92d55bd8-dce8-48b8-8a1d-2072b7983b1f",
   "metadata": {},
   "outputs": [
    {
     "data": {
      "text/plain": [
       "['run', 'runner', 'run', 'easily', 'cat']"
      ]
     },
     "execution_count": 10,
     "metadata": {},
     "output_type": "execute_result"
    }
   ],
   "source": [
    "import nltk\n",
    "\n",
    "from nltk.stem import WordNetLemmatizer\n",
    "from nltk.corpus import wordnet\n",
    "\n",
    "words = [\"running\", \"runner\", \"ran\", \"easily\", \"cats\"] # so'zlar\n",
    "\n",
    "lemmatizer = WordNetLemmatizer()\n",
    "\n",
    "lemmas = []\n",
    "\n",
    "for word in words:\n",
    "    lemma = lemmatizer.lemmatize(word, pos = 'v') # verb sifatida munosabat\n",
    "    lemmas.append(lemma)\n",
    "\n",
    "lemmas\n"
   ]
  },
  {
   "cell_type": "markdown",
   "id": "8944a225-71b9-41f3-8b0a-c61dd5f1dc2a",
   "metadata": {},
   "source": [
    "## Spacy"
   ]
  },
  {
   "cell_type": "markdown",
   "id": "6bd7818d-8337-4ce2-98bb-089073508969",
   "metadata": {},
   "source": [
    "### lemmatizer"
   ]
  },
  {
   "cell_type": "code",
   "execution_count": 13,
   "id": "f1071a8f-e0cc-461f-9560-700b5a59d412",
   "metadata": {},
   "outputs": [
    {
     "data": {
      "text/plain": [
       "['run', 'well', 'foot', 'geese']"
      ]
     },
     "execution_count": 13,
     "metadata": {},
     "output_type": "execute_result"
    }
   ],
   "source": [
    "import spacy\n",
    "\n",
    "nlp = spacy.load(\"en_core_web_sm\")\n",
    "\n",
    "text = 'running better feet geese'\n",
    "\n",
    "doc = nlp(text)\n",
    "\n",
    "lemmas = [token.lemma_ for token in doc]\n",
    "\n",
    "lemmas"
   ]
  },
  {
   "cell_type": "code",
   "execution_count": 14,
   "id": "5d34e617-12fe-46ce-997c-e7b3649f7af2",
   "metadata": {},
   "outputs": [
    {
     "data": {
      "text/plain": [
       "['run', 'runner', 'run', 'easily', 'cat']"
      ]
     },
     "execution_count": 14,
     "metadata": {},
     "output_type": "execute_result"
    }
   ],
   "source": [
    "text = \"running runner ran easily cats\"\n",
    "\n",
    "doc = nlp(text)\n",
    "\n",
    "lemmas = [token.lemma_ for token in doc]\n",
    "lemmas"
   ]
  },
  {
   "cell_type": "code",
   "execution_count": 2,
   "id": "38b0c3cd-91d9-48ae-92ac-770b9be75dd1",
   "metadata": {},
   "outputs": [
    {
     "data": {
      "text/plain": [
       "['\\n',\n",
       " 'the',\n",
       " 'child',\n",
       " 'be',\n",
       " 'play',\n",
       " 'in',\n",
       " 'the',\n",
       " 'garden',\n",
       " 'when',\n",
       " 'their',\n",
       " 'mother',\n",
       " 'call',\n",
       " 'they',\n",
       " 'for',\n",
       " 'dinner',\n",
       " '.',\n",
       " '\\n',\n",
       " 'they',\n",
       " 'have',\n",
       " 'be',\n",
       " 'run',\n",
       " 'around',\n",
       " 'for',\n",
       " 'hour',\n",
       " ',',\n",
       " 'chase',\n",
       " 'butterfly',\n",
       " 'and',\n",
       " 'laugh',\n",
       " 'loudly',\n",
       " '.',\n",
       " '\\n',\n",
       " 'despite',\n",
       " 'the',\n",
       " 'cloudy',\n",
       " 'weather',\n",
       " ',',\n",
       " 'the',\n",
       " 'day',\n",
       " 'have',\n",
       " 'be',\n",
       " 'quite',\n",
       " 'enjoyable',\n",
       " '.',\n",
       " '\\n',\n",
       " 'later',\n",
       " ',',\n",
       " 'they',\n",
       " 'talk',\n",
       " 'about',\n",
       " 'their',\n",
       " 'adventure',\n",
       " 'and',\n",
       " 'plan',\n",
       " 'what',\n",
       " 'to',\n",
       " 'do',\n",
       " 'tomorrow',\n",
       " '.',\n",
       " '\\n']"
      ]
     },
     "execution_count": 2,
     "metadata": {},
     "output_type": "execute_result"
    }
   ],
   "source": [
    "import spacy\n",
    "\n",
    "nlp = spacy.load(\"en_core_web_sm\")\n",
    "\n",
    "\n",
    "text = \"\"\"\n",
    "The children were playing in the garden when their mother called them for dinner. \n",
    "They had been running around for hours, chasing butterflies and laughing loudly. \n",
    "Despite the cloudy weather, the day had been quite enjoyable. \n",
    "Later, they talked about their adventures and planned what to do tomorrow.\n",
    "\"\"\"\n",
    "\n",
    "doc = nlp(text)\n",
    "\n",
    "lemmas = [token.lemma_ for token in doc]\n",
    "\n",
    "lemmas"
   ]
  },
  {
   "cell_type": "code",
   "execution_count": null,
   "id": "29f2cf7a-299f-437b-bb67-0b9e89255b0d",
   "metadata": {},
   "outputs": [],
   "source": []
  }
 ],
 "metadata": {
  "kernelspec": {
   "display_name": "Python 3 (ipykernel)",
   "language": "python",
   "name": "python3"
  },
  "language_info": {
   "codemirror_mode": {
    "name": "ipython",
    "version": 3
   },
   "file_extension": ".py",
   "mimetype": "text/x-python",
   "name": "python",
   "nbconvert_exporter": "python",
   "pygments_lexer": "ipython3",
   "version": "3.11.9"
  }
 },
 "nbformat": 4,
 "nbformat_minor": 5
}
