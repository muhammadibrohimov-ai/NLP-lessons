{
 "cells": [
  {
   "cell_type": "markdown",
   "id": "47db65a6-2e1f-4f18-9ac7-34ca5f152ebd",
   "metadata": {},
   "source": [
    "# Matndagi so'zlarni o'zaklash"
   ]
  },
  {
   "cell_type": "markdown",
   "id": "462da1dc-0527-4206-869a-8da9a2611430",
   "metadata": {},
   "source": [
    "## NLTK\n",
    "\n",
    "### stemming"
   ]
  },
  {
   "cell_type": "code",
   "execution_count": 3,
   "id": "0acf62d9-22fc-4acc-ae10-f5e3d231f667",
   "metadata": {},
   "outputs": [
    {
     "data": {
      "text/plain": [
       "['run', 'runner', 'ran', 'easili', 'cat']"
      ]
     },
     "execution_count": 3,
     "metadata": {},
     "output_type": "execute_result"
    }
   ],
   "source": [
    "import nltk\n",
    "\n",
    "from nltk.stem import PorterStemmer # class\n",
    "\n",
    "stemmer = PorterStemmer() # object\n",
    "\n",
    "words = [\"running\", \"runner\", \"ran\", \"easily\", \"cats\"] # so'zlar\n",
    "\n",
    "stems = []\n",
    "\n",
    "for word in words:\n",
    "    stemmed_word = stemmer.stem(word) # stemmer.stem() method\n",
    "    stems.append(stemmed_word)\n",
    "\n",
    "stems"
   ]
  },
  {
   "cell_type": "markdown",
   "id": "c9715ad8-84ca-4cee-8a06-fe73efd50f2d",
   "metadata": {},
   "source": [
    "## NLTK\n",
    "\n",
    "### lemmatization"
   ]
  },
  {
   "cell_type": "code",
   "execution_count": null,
   "id": "92d55bd8-dce8-48b8-8a1d-2072b7983b1f",
   "metadata": {},
   "outputs": [],
   "source": [
    "import nltk"
   ]
  }
 ],
 "metadata": {
  "kernelspec": {
   "display_name": "Python 3 (ipykernel)",
   "language": "python",
   "name": "python3"
  },
  "language_info": {
   "codemirror_mode": {
    "name": "ipython",
    "version": 3
   },
   "file_extension": ".py",
   "mimetype": "text/x-python",
   "name": "python",
   "nbconvert_exporter": "python",
   "pygments_lexer": "ipython3",
   "version": "3.11.9"
  }
 },
 "nbformat": 4,
 "nbformat_minor": 5
}
