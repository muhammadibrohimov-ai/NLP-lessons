{
 "cells": [
  {
   "cell_type": "markdown",
   "id": "538743ad-209d-4d8f-b936-1ca6496cf881",
   "metadata": {},
   "source": [
    "### To'xtash so'zlarini olib tashlash"
   ]
  },
  {
   "cell_type": "markdown",
   "id": "05ee5a08-e882-4f56-89e9-89658ea0e9a0",
   "metadata": {},
   "source": [
    "#### NLTK"
   ]
  },
  {
   "cell_type": "code",
   "execution_count": 7,
   "id": "3428ef95-6551-401a-b3e8-4ede8d20d2ef",
   "metadata": {
    "ExecuteTime": {
     "end_time": "2025-09-25T02:16:45.744491Z",
     "start_time": "2025-09-25T02:16:45.091960Z"
    }
   },
   "outputs": [
    {
     "data": {
      "text/plain": [
       "198"
      ]
     },
     "execution_count": 7,
     "metadata": {},
     "output_type": "execute_result"
    }
   ],
   "source": [
    "import nltk\n",
    "\n",
    "from nltk.corpus import stopwords\n",
    "\n",
    "stop_words = set(stopwords.words('english'))\n",
    "len(stop_words)"
   ]
  },
  {
   "cell_type": "code",
   "execution_count": 8,
   "id": "600386fb-c765-4e60-950b-a863f6132815",
   "metadata": {
    "ExecuteTime": {
     "end_time": "2025-09-25T02:16:45.806277Z",
     "start_time": "2025-09-25T02:16:45.800372Z"
    }
   },
   "outputs": [
    {
     "data": {
      "text/plain": [
       "['simple', 'text', ',', 'showing', 'stopwords', 'filtration']"
      ]
     },
     "execution_count": 8,
     "metadata": {},
     "output_type": "execute_result"
    }
   ],
   "source": [
    "from nltk.corpus import stopwords\n",
    "\n",
    "from nltk.tokenize import word_tokenize\n",
    "\n",
    "stop_words = set(stopwords.words('english'))\n",
    "\n",
    "text = \"This is a simple text, showing off the stopwords filtration\"\n",
    "\n",
    "words = word_tokenize(text, language = 'english', preserve_line = True)\n",
    "\n",
    "filtered_words = []\n",
    "\n",
    "for word in words:\n",
    "    if word.lower() not in stop_words:\n",
    "        filtered_words.append(word)\n",
    "\n",
    "filtered_words"
   ]
  },
  {
   "cell_type": "markdown",
   "id": "d469546f-699a-4426-9d3e-12ed81b489d6",
   "metadata": {},
   "source": [
    "### Spacy"
   ]
  },
  {
   "cell_type": "code",
   "execution_count": 9,
   "id": "1a8fb0a3-4c9f-408a-a26e-ddaf7495e330",
   "metadata": {},
   "outputs": [
    {
     "data": {
      "text/plain": [
       "326"
      ]
     },
     "execution_count": 9,
     "metadata": {},
     "output_type": "execute_result"
    }
   ],
   "source": [
    "import spacy\n",
    "from spacy.lang.en import stop_words\n",
    "stop_words = stop_words.STOP_WORDS\n",
    "len(stop_words)"
   ]
  },
  {
   "cell_type": "code",
   "execution_count": 12,
   "id": "345bb6e0-d68f-4d2a-8f7c-c2aedeb62825",
   "metadata": {},
   "outputs": [
    {
     "name": "stdout",
     "output_type": "stream",
     "text": [
      "[simple, text, ,, showing, stopwords, filtration]\n"
     ]
    }
   ],
   "source": [
    "text = \"This is a simple text, showing off the stopwords filtration\"\n",
    "\n",
    "nlp = spacy.load('en_core_web_sm')\n",
    "\n",
    "doc = nlp(text)\n",
    "\n",
    "filtered_sentence = []\n",
    "\n",
    "for token in doc:\n",
    "    if token.text.lower() not in stop_words:\n",
    "        filtered_sentence.append(token)\n",
    "\n",
    "print(filtered_sentence)"
   ]
  },
  {
   "cell_type": "code",
   "execution_count": null,
   "id": "3500009e-ba9b-40bd-bff1-c9b173c36f60",
   "metadata": {},
   "outputs": [],
   "source": []
  }
 ],
 "metadata": {
  "kernelspec": {
   "display_name": "Python 3 (ipykernel)",
   "language": "python",
   "name": "python3"
  },
  "language_info": {
   "codemirror_mode": {
    "name": "ipython",
    "version": 3
   },
   "file_extension": ".py",
   "mimetype": "text/x-python",
   "name": "python",
   "nbconvert_exporter": "python",
   "pygments_lexer": "ipython3",
   "version": "3.11.9"
  }
 },
 "nbformat": 4,
 "nbformat_minor": 5
}
