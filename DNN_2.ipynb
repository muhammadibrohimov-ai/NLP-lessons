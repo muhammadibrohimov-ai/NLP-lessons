{
 "cells": [
  {
   "cell_type": "code",
   "execution_count": 1,
   "id": "01b1802a-74d6-4fa0-8b17-04949d94e860",
   "metadata": {},
   "outputs": [],
   "source": [
    "import pandas as pd\n",
    "import numpy as np\n",
    "\n",
    "import matplotlib.pyplot as plt\n",
    "import seaborn as sns\n",
    "%matplotlib inline\n",
    "\n",
    "from sklearn.model_selection import train_test_split\n",
    "from sklearn.metrics import accuracy_score, confusion_matrix, classification_report\n",
    "\n",
    "import tensorflow as tf"
   ]
  },
  {
   "cell_type": "code",
   "execution_count": 2,
   "id": "daa0f730-6bcc-45e6-b00b-8a1dd0cf74ef",
   "metadata": {},
   "outputs": [
    {
     "data": {
      "text/html": [
       "<div>\n",
       "<style scoped>\n",
       "    .dataframe tbody tr th:only-of-type {\n",
       "        vertical-align: middle;\n",
       "    }\n",
       "\n",
       "    .dataframe tbody tr th {\n",
       "        vertical-align: top;\n",
       "    }\n",
       "\n",
       "    .dataframe thead th {\n",
       "        text-align: right;\n",
       "    }\n",
       "</style>\n",
       "<table border=\"1\" class=\"dataframe\">\n",
       "  <thead>\n",
       "    <tr style=\"text-align: right;\">\n",
       "      <th></th>\n",
       "      <th>Hususiyat_1</th>\n",
       "      <th>Hususiyat_2</th>\n",
       "      <th>Hususiyat_3</th>\n",
       "      <th>Hususiyat_4</th>\n",
       "      <th>Hususiyat_5</th>\n",
       "      <th>Hususiyat_6</th>\n",
       "      <th>Hususiyat_7</th>\n",
       "      <th>Hususiyat_8</th>\n",
       "      <th>Hususiyat_9</th>\n",
       "      <th>Hususiyat_10</th>\n",
       "      <th>...</th>\n",
       "      <th>Hususiyat_42</th>\n",
       "      <th>Hususiyat_43</th>\n",
       "      <th>Hususiyat_44</th>\n",
       "      <th>Hususiyat_45</th>\n",
       "      <th>Hususiyat_46</th>\n",
       "      <th>Hususiyat_47</th>\n",
       "      <th>Hususiyat_48</th>\n",
       "      <th>Hususiyat_49</th>\n",
       "      <th>Hususiyat_50</th>\n",
       "      <th>target</th>\n",
       "    </tr>\n",
       "  </thead>\n",
       "  <tbody>\n",
       "    <tr>\n",
       "      <th>0</th>\n",
       "      <td>-3.829149</td>\n",
       "      <td>-15.616470</td>\n",
       "      <td>9.158026</td>\n",
       "      <td>-8.098128</td>\n",
       "      <td>7.266869</td>\n",
       "      <td>-1.711200</td>\n",
       "      <td>6.546805</td>\n",
       "      <td>0.340660</td>\n",
       "      <td>-2.390198</td>\n",
       "      <td>12.819839</td>\n",
       "      <td>...</td>\n",
       "      <td>-0.278534</td>\n",
       "      <td>1.424548</td>\n",
       "      <td>-3.782744</td>\n",
       "      <td>-1.891090</td>\n",
       "      <td>-3.281068</td>\n",
       "      <td>-3.314894</td>\n",
       "      <td>-2.481401</td>\n",
       "      <td>2.079283</td>\n",
       "      <td>5.816571</td>\n",
       "      <td>1</td>\n",
       "    </tr>\n",
       "    <tr>\n",
       "      <th>1</th>\n",
       "      <td>0.737875</td>\n",
       "      <td>-0.421161</td>\n",
       "      <td>0.413262</td>\n",
       "      <td>1.879897</td>\n",
       "      <td>-2.951563</td>\n",
       "      <td>0.972342</td>\n",
       "      <td>-1.837012</td>\n",
       "      <td>-3.195463</td>\n",
       "      <td>1.050640</td>\n",
       "      <td>-8.399948</td>\n",
       "      <td>...</td>\n",
       "      <td>5.748830</td>\n",
       "      <td>-1.320603</td>\n",
       "      <td>-8.782590</td>\n",
       "      <td>2.077068</td>\n",
       "      <td>0.711459</td>\n",
       "      <td>2.438542</td>\n",
       "      <td>-0.571515</td>\n",
       "      <td>-2.848832</td>\n",
       "      <td>-10.315526</td>\n",
       "      <td>0</td>\n",
       "    </tr>\n",
       "    <tr>\n",
       "      <th>2</th>\n",
       "      <td>0.949210</td>\n",
       "      <td>2.674257</td>\n",
       "      <td>-4.085739</td>\n",
       "      <td>-5.800049</td>\n",
       "      <td>-2.866183</td>\n",
       "      <td>0.636044</td>\n",
       "      <td>2.102187</td>\n",
       "      <td>6.815251</td>\n",
       "      <td>-2.446099</td>\n",
       "      <td>-21.943650</td>\n",
       "      <td>...</td>\n",
       "      <td>-0.740513</td>\n",
       "      <td>4.863390</td>\n",
       "      <td>-2.480826</td>\n",
       "      <td>5.557675</td>\n",
       "      <td>0.980068</td>\n",
       "      <td>-1.744162</td>\n",
       "      <td>-4.432953</td>\n",
       "      <td>3.822582</td>\n",
       "      <td>-0.044013</td>\n",
       "      <td>3</td>\n",
       "    </tr>\n",
       "    <tr>\n",
       "      <th>3</th>\n",
       "      <td>-1.087774</td>\n",
       "      <td>-11.427148</td>\n",
       "      <td>-26.047114</td>\n",
       "      <td>4.376803</td>\n",
       "      <td>16.786633</td>\n",
       "      <td>-0.411104</td>\n",
       "      <td>-0.194099</td>\n",
       "      <td>-5.989625</td>\n",
       "      <td>-2.597773</td>\n",
       "      <td>0.349290</td>\n",
       "      <td>...</td>\n",
       "      <td>6.501248</td>\n",
       "      <td>-1.901300</td>\n",
       "      <td>-2.936669</td>\n",
       "      <td>-0.618479</td>\n",
       "      <td>-2.890830</td>\n",
       "      <td>3.886328</td>\n",
       "      <td>-2.179567</td>\n",
       "      <td>1.571246</td>\n",
       "      <td>-16.506496</td>\n",
       "      <td>1</td>\n",
       "    </tr>\n",
       "    <tr>\n",
       "      <th>4</th>\n",
       "      <td>-4.945788</td>\n",
       "      <td>20.677985</td>\n",
       "      <td>-13.375869</td>\n",
       "      <td>-0.232089</td>\n",
       "      <td>19.574830</td>\n",
       "      <td>-3.678291</td>\n",
       "      <td>17.108031</td>\n",
       "      <td>-10.146709</td>\n",
       "      <td>4.389545</td>\n",
       "      <td>1.424338</td>\n",
       "      <td>...</td>\n",
       "      <td>-2.079750</td>\n",
       "      <td>0.363138</td>\n",
       "      <td>-8.638989</td>\n",
       "      <td>1.620364</td>\n",
       "      <td>3.238004</td>\n",
       "      <td>7.506145</td>\n",
       "      <td>-2.936029</td>\n",
       "      <td>-0.199775</td>\n",
       "      <td>0.501586</td>\n",
       "      <td>1</td>\n",
       "    </tr>\n",
       "  </tbody>\n",
       "</table>\n",
       "<p>5 rows × 51 columns</p>\n",
       "</div>"
      ],
      "text/plain": [
       "   Hususiyat_1  Hususiyat_2  Hususiyat_3  Hususiyat_4  Hususiyat_5  \\\n",
       "0    -3.829149   -15.616470     9.158026    -8.098128     7.266869   \n",
       "1     0.737875    -0.421161     0.413262     1.879897    -2.951563   \n",
       "2     0.949210     2.674257    -4.085739    -5.800049    -2.866183   \n",
       "3    -1.087774   -11.427148   -26.047114     4.376803    16.786633   \n",
       "4    -4.945788    20.677985   -13.375869    -0.232089    19.574830   \n",
       "\n",
       "   Hususiyat_6  Hususiyat_7  Hususiyat_8  Hususiyat_9  Hususiyat_10  ...  \\\n",
       "0    -1.711200     6.546805     0.340660    -2.390198     12.819839  ...   \n",
       "1     0.972342    -1.837012    -3.195463     1.050640     -8.399948  ...   \n",
       "2     0.636044     2.102187     6.815251    -2.446099    -21.943650  ...   \n",
       "3    -0.411104    -0.194099    -5.989625    -2.597773      0.349290  ...   \n",
       "4    -3.678291    17.108031   -10.146709     4.389545      1.424338  ...   \n",
       "\n",
       "   Hususiyat_42  Hususiyat_43  Hususiyat_44  Hususiyat_45  Hususiyat_46  \\\n",
       "0     -0.278534      1.424548     -3.782744     -1.891090     -3.281068   \n",
       "1      5.748830     -1.320603     -8.782590      2.077068      0.711459   \n",
       "2     -0.740513      4.863390     -2.480826      5.557675      0.980068   \n",
       "3      6.501248     -1.901300     -2.936669     -0.618479     -2.890830   \n",
       "4     -2.079750      0.363138     -8.638989      1.620364      3.238004   \n",
       "\n",
       "   Hususiyat_47  Hususiyat_48  Hususiyat_49  Hususiyat_50  target  \n",
       "0     -3.314894     -2.481401      2.079283      5.816571       1  \n",
       "1      2.438542     -0.571515     -2.848832    -10.315526       0  \n",
       "2     -1.744162     -4.432953      3.822582     -0.044013       3  \n",
       "3      3.886328     -2.179567      1.571246    -16.506496       1  \n",
       "4      7.506145     -2.936029     -0.199775      0.501586       1  \n",
       "\n",
       "[5 rows x 51 columns]"
      ]
     },
     "execution_count": 2,
     "metadata": {},
     "output_type": "execute_result"
    }
   ],
   "source": [
    "from sklearn.datasets import make_classification\n",
    "\n",
    "X, y = make_classification(\n",
    "    n_samples = 10000,\n",
    "    n_features = 50, \n",
    "    n_informative = 35,\n",
    "    n_redundant = 15,\n",
    "    n_classes = 4,\n",
    "    weights = [0.25, 0.25, 0.25, 0.25],\n",
    "    random_state = 42,\n",
    ")\n",
    "\n",
    "cols = [f'Hususiyat_{i+1}' for i in range(len(X[0]))]\n",
    "df = pd.DataFrame(X, columns = cols)\n",
    "df['target'] = y\n",
    "df.head()"
   ]
  },
  {
   "cell_type": "code",
   "execution_count": 3,
   "id": "5a3cf75d-957d-4085-a1d0-02f669fa673f",
   "metadata": {},
   "outputs": [
    {
     "name": "stdout",
     "output_type": "stream",
     "text": [
      "(8000, 50)\n",
      "(2000, 50)\n",
      "(8000,)\n",
      "(2000,)\n"
     ]
    }
   ],
   "source": [
    "X_train, X_test, y_train, y_test = train_test_split(X, y, test_size = 0.2, random_state=42)\n",
    "print(X_train.shape, X_test.shape, y_train.shape, y_test.shape, sep='\\n')"
   ]
  },
  {
   "cell_type": "markdown",
   "id": "f3c9e245-b68f-49ca-b697-41a66feddc1d",
   "metadata": {},
   "source": [
    "## DNN model yasash"
   ]
  },
  {
   "cell_type": "code",
   "execution_count": 4,
   "id": "5c047984-dd85-447a-9279-055677314bd8",
   "metadata": {},
   "outputs": [
    {
     "name": "stderr",
     "output_type": "stream",
     "text": [
      "/Users/miuceo/Desktop/NLP-lessons/env/lib/python3.11/site-packages/keras/src/layers/core/dense.py:92: UserWarning: Do not pass an `input_shape`/`input_dim` argument to a layer. When using Sequential models, prefer using an `Input(shape)` object as the first layer in the model instead.\n",
      "  super().__init__(activity_regularizer=activity_regularizer, **kwargs)\n"
     ]
    },
    {
     "data": {
      "text/html": [
       "<pre style=\"white-space:pre;overflow-x:auto;line-height:normal;font-family:Menlo,'DejaVu Sans Mono',consolas,'Courier New',monospace\"><span style=\"font-weight: bold\">Model: \"sequential\"</span>\n",
       "</pre>\n"
      ],
      "text/plain": [
       "\u001b[1mModel: \"sequential\"\u001b[0m\n"
      ]
     },
     "metadata": {},
     "output_type": "display_data"
    },
    {
     "data": {
      "text/html": [
       "<pre style=\"white-space:pre;overflow-x:auto;line-height:normal;font-family:Menlo,'DejaVu Sans Mono',consolas,'Courier New',monospace\">┏━━━━━━━━━━━━━━━━━━━━━━━━━━━━━━━━━┳━━━━━━━━━━━━━━━━━━━━━━━━┳━━━━━━━━━━━━━━━┓\n",
       "┃<span style=\"font-weight: bold\"> Layer (type)                    </span>┃<span style=\"font-weight: bold\"> Output Shape           </span>┃<span style=\"font-weight: bold\">       Param # </span>┃\n",
       "┡━━━━━━━━━━━━━━━━━━━━━━━━━━━━━━━━━╇━━━━━━━━━━━━━━━━━━━━━━━━╇━━━━━━━━━━━━━━━┩\n",
       "│ dense (<span style=\"color: #0087ff; text-decoration-color: #0087ff\">Dense</span>)                   │ (<span style=\"color: #00d7ff; text-decoration-color: #00d7ff\">None</span>, <span style=\"color: #00af00; text-decoration-color: #00af00\">20</span>)             │         <span style=\"color: #00af00; text-decoration-color: #00af00\">1,020</span> │\n",
       "├─────────────────────────────────┼────────────────────────┼───────────────┤\n",
       "│ dense_1 (<span style=\"color: #0087ff; text-decoration-color: #0087ff\">Dense</span>)                 │ (<span style=\"color: #00d7ff; text-decoration-color: #00d7ff\">None</span>, <span style=\"color: #00af00; text-decoration-color: #00af00\">20</span>)             │           <span style=\"color: #00af00; text-decoration-color: #00af00\">420</span> │\n",
       "├─────────────────────────────────┼────────────────────────┼───────────────┤\n",
       "│ dense_2 (<span style=\"color: #0087ff; text-decoration-color: #0087ff\">Dense</span>)                 │ (<span style=\"color: #00d7ff; text-decoration-color: #00d7ff\">None</span>, <span style=\"color: #00af00; text-decoration-color: #00af00\">10</span>)             │           <span style=\"color: #00af00; text-decoration-color: #00af00\">210</span> │\n",
       "├─────────────────────────────────┼────────────────────────┼───────────────┤\n",
       "│ dense_3 (<span style=\"color: #0087ff; text-decoration-color: #0087ff\">Dense</span>)                 │ (<span style=\"color: #00d7ff; text-decoration-color: #00d7ff\">None</span>, <span style=\"color: #00af00; text-decoration-color: #00af00\">4</span>)              │            <span style=\"color: #00af00; text-decoration-color: #00af00\">44</span> │\n",
       "└─────────────────────────────────┴────────────────────────┴───────────────┘\n",
       "</pre>\n"
      ],
      "text/plain": [
       "┏━━━━━━━━━━━━━━━━━━━━━━━━━━━━━━━━━┳━━━━━━━━━━━━━━━━━━━━━━━━┳━━━━━━━━━━━━━━━┓\n",
       "┃\u001b[1m \u001b[0m\u001b[1mLayer (type)                   \u001b[0m\u001b[1m \u001b[0m┃\u001b[1m \u001b[0m\u001b[1mOutput Shape          \u001b[0m\u001b[1m \u001b[0m┃\u001b[1m \u001b[0m\u001b[1m      Param #\u001b[0m\u001b[1m \u001b[0m┃\n",
       "┡━━━━━━━━━━━━━━━━━━━━━━━━━━━━━━━━━╇━━━━━━━━━━━━━━━━━━━━━━━━╇━━━━━━━━━━━━━━━┩\n",
       "│ dense (\u001b[38;5;33mDense\u001b[0m)                   │ (\u001b[38;5;45mNone\u001b[0m, \u001b[38;5;34m20\u001b[0m)             │         \u001b[38;5;34m1,020\u001b[0m │\n",
       "├─────────────────────────────────┼────────────────────────┼───────────────┤\n",
       "│ dense_1 (\u001b[38;5;33mDense\u001b[0m)                 │ (\u001b[38;5;45mNone\u001b[0m, \u001b[38;5;34m20\u001b[0m)             │           \u001b[38;5;34m420\u001b[0m │\n",
       "├─────────────────────────────────┼────────────────────────┼───────────────┤\n",
       "│ dense_2 (\u001b[38;5;33mDense\u001b[0m)                 │ (\u001b[38;5;45mNone\u001b[0m, \u001b[38;5;34m10\u001b[0m)             │           \u001b[38;5;34m210\u001b[0m │\n",
       "├─────────────────────────────────┼────────────────────────┼───────────────┤\n",
       "│ dense_3 (\u001b[38;5;33mDense\u001b[0m)                 │ (\u001b[38;5;45mNone\u001b[0m, \u001b[38;5;34m4\u001b[0m)              │            \u001b[38;5;34m44\u001b[0m │\n",
       "└─────────────────────────────────┴────────────────────────┴───────────────┘\n"
      ]
     },
     "metadata": {},
     "output_type": "display_data"
    },
    {
     "data": {
      "text/html": [
       "<pre style=\"white-space:pre;overflow-x:auto;line-height:normal;font-family:Menlo,'DejaVu Sans Mono',consolas,'Courier New',monospace\"><span style=\"font-weight: bold\"> Total params: </span><span style=\"color: #00af00; text-decoration-color: #00af00\">1,694</span> (6.62 KB)\n",
       "</pre>\n"
      ],
      "text/plain": [
       "\u001b[1m Total params: \u001b[0m\u001b[38;5;34m1,694\u001b[0m (6.62 KB)\n"
      ]
     },
     "metadata": {},
     "output_type": "display_data"
    },
    {
     "data": {
      "text/html": [
       "<pre style=\"white-space:pre;overflow-x:auto;line-height:normal;font-family:Menlo,'DejaVu Sans Mono',consolas,'Courier New',monospace\"><span style=\"font-weight: bold\"> Trainable params: </span><span style=\"color: #00af00; text-decoration-color: #00af00\">1,694</span> (6.62 KB)\n",
       "</pre>\n"
      ],
      "text/plain": [
       "\u001b[1m Trainable params: \u001b[0m\u001b[38;5;34m1,694\u001b[0m (6.62 KB)\n"
      ]
     },
     "metadata": {},
     "output_type": "display_data"
    },
    {
     "data": {
      "text/html": [
       "<pre style=\"white-space:pre;overflow-x:auto;line-height:normal;font-family:Menlo,'DejaVu Sans Mono',consolas,'Courier New',monospace\"><span style=\"font-weight: bold\"> Non-trainable params: </span><span style=\"color: #00af00; text-decoration-color: #00af00\">0</span> (0.00 B)\n",
       "</pre>\n"
      ],
      "text/plain": [
       "\u001b[1m Non-trainable params: \u001b[0m\u001b[38;5;34m0\u001b[0m (0.00 B)\n"
      ]
     },
     "metadata": {},
     "output_type": "display_data"
    }
   ],
   "source": [
    "from tensorflow.keras.models import Sequential\n",
    "from tensorflow.keras.layers import Dense\n",
    "\n",
    "model_dnn = Sequential([\n",
    "    Dense(20, activation = 'relu', input_shape = (50,)),\n",
    "    Dense(20, activation = 'relu',),\n",
    "    Dense(10, activation = 'relu',),\n",
    "    Dense(4, activation = 'softmax',),\n",
    "])\n",
    "\n",
    "model_dnn.summary()"
   ]
  },
  {
   "cell_type": "code",
   "execution_count": 5,
   "id": "7e5fbb8d-4870-4880-951d-eb2b9fa58778",
   "metadata": {},
   "outputs": [
    {
     "name": "stdout",
     "output_type": "stream",
     "text": [
      "Epoch 1/15\n",
      "\u001b[1m500/500\u001b[0m \u001b[32m━━━━━━━━━━━━━━━━━━━━\u001b[0m\u001b[37m\u001b[0m \u001b[1m1s\u001b[0m 524us/step - accuracy: 0.3944 - loss: 1.3834 - val_accuracy: 0.4850 - val_loss: 1.1583\n",
      "Epoch 2/15\n",
      "\u001b[1m500/500\u001b[0m \u001b[32m━━━━━━━━━━━━━━━━━━━━\u001b[0m\u001b[37m\u001b[0m \u001b[1m0s\u001b[0m 384us/step - accuracy: 0.5771 - loss: 1.0177 - val_accuracy: 0.6380 - val_loss: 0.9045\n",
      "Epoch 3/15\n",
      "\u001b[1m500/500\u001b[0m \u001b[32m━━━━━━━━━━━━━━━━━━━━\u001b[0m\u001b[37m\u001b[0m \u001b[1m0s\u001b[0m 379us/step - accuracy: 0.6810 - loss: 0.8008 - val_accuracy: 0.7075 - val_loss: 0.7331\n",
      "Epoch 4/15\n",
      "\u001b[1m500/500\u001b[0m \u001b[32m━━━━━━━━━━━━━━━━━━━━\u001b[0m\u001b[37m\u001b[0m \u001b[1m0s\u001b[0m 394us/step - accuracy: 0.7429 - loss: 0.6689 - val_accuracy: 0.7415 - val_loss: 0.6353\n",
      "Epoch 5/15\n",
      "\u001b[1m500/500\u001b[0m \u001b[32m━━━━━━━━━━━━━━━━━━━━\u001b[0m\u001b[37m\u001b[0m \u001b[1m0s\u001b[0m 386us/step - accuracy: 0.7771 - loss: 0.5862 - val_accuracy: 0.7765 - val_loss: 0.5914\n",
      "Epoch 6/15\n",
      "\u001b[1m500/500\u001b[0m \u001b[32m━━━━━━━━━━━━━━━━━━━━\u001b[0m\u001b[37m\u001b[0m \u001b[1m0s\u001b[0m 451us/step - accuracy: 0.8014 - loss: 0.5356 - val_accuracy: 0.7925 - val_loss: 0.5346\n",
      "Epoch 7/15\n",
      "\u001b[1m500/500\u001b[0m \u001b[32m━━━━━━━━━━━━━━━━━━━━\u001b[0m\u001b[37m\u001b[0m \u001b[1m0s\u001b[0m 399us/step - accuracy: 0.8167 - loss: 0.4936 - val_accuracy: 0.7975 - val_loss: 0.5117\n",
      "Epoch 8/15\n",
      "\u001b[1m500/500\u001b[0m \u001b[32m━━━━━━━━━━━━━━━━━━━━\u001b[0m\u001b[37m\u001b[0m \u001b[1m0s\u001b[0m 384us/step - accuracy: 0.8292 - loss: 0.4608 - val_accuracy: 0.8125 - val_loss: 0.4821\n",
      "Epoch 9/15\n",
      "\u001b[1m500/500\u001b[0m \u001b[32m━━━━━━━━━━━━━━━━━━━━\u001b[0m\u001b[37m\u001b[0m \u001b[1m0s\u001b[0m 413us/step - accuracy: 0.8404 - loss: 0.4307 - val_accuracy: 0.8205 - val_loss: 0.4747\n",
      "Epoch 10/15\n",
      "\u001b[1m500/500\u001b[0m \u001b[32m━━━━━━━━━━━━━━━━━━━━\u001b[0m\u001b[37m\u001b[0m \u001b[1m0s\u001b[0m 426us/step - accuracy: 0.8525 - loss: 0.4092 - val_accuracy: 0.8240 - val_loss: 0.4521\n",
      "Epoch 11/15\n",
      "\u001b[1m500/500\u001b[0m \u001b[32m━━━━━━━━━━━━━━━━━━━━\u001b[0m\u001b[37m\u001b[0m \u001b[1m0s\u001b[0m 400us/step - accuracy: 0.8614 - loss: 0.3909 - val_accuracy: 0.8395 - val_loss: 0.4377\n",
      "Epoch 12/15\n",
      "\u001b[1m500/500\u001b[0m \u001b[32m━━━━━━━━━━━━━━━━━━━━\u001b[0m\u001b[37m\u001b[0m \u001b[1m0s\u001b[0m 400us/step - accuracy: 0.8681 - loss: 0.3765 - val_accuracy: 0.8440 - val_loss: 0.4230\n",
      "Epoch 13/15\n",
      "\u001b[1m500/500\u001b[0m \u001b[32m━━━━━━━━━━━━━━━━━━━━\u001b[0m\u001b[37m\u001b[0m \u001b[1m0s\u001b[0m 388us/step - accuracy: 0.8729 - loss: 0.3562 - val_accuracy: 0.8365 - val_loss: 0.4505\n",
      "Epoch 14/15\n",
      "\u001b[1m500/500\u001b[0m \u001b[32m━━━━━━━━━━━━━━━━━━━━\u001b[0m\u001b[37m\u001b[0m \u001b[1m0s\u001b[0m 382us/step - accuracy: 0.8809 - loss: 0.3465 - val_accuracy: 0.8560 - val_loss: 0.4086\n",
      "Epoch 15/15\n",
      "\u001b[1m500/500\u001b[0m \u001b[32m━━━━━━━━━━━━━━━━━━━━\u001b[0m\u001b[37m\u001b[0m \u001b[1m0s\u001b[0m 391us/step - accuracy: 0.8830 - loss: 0.3331 - val_accuracy: 0.8485 - val_loss: 0.4220\n"
     ]
    }
   ],
   "source": [
    "model_dnn.compile(\n",
    "    loss = 'sparse_categorical_crossentropy',\n",
    "    optimizer = tf.keras.optimizers.RMSprop(),\n",
    "    metrics = ['accuracy']\n",
    ")\n",
    "\n",
    "history_dnn = model_dnn.fit(\n",
    "    X_train, y_train, epochs=15,\n",
    "    batch_size=16,\n",
    "    validation_data = (X_test, y_test)\n",
    ")"
   ]
  },
  {
   "cell_type": "code",
   "execution_count": 6,
   "id": "45b3cf22-63cc-42b1-a8b9-8e861039b52d",
   "metadata": {},
   "outputs": [
    {
     "name": "stdout",
     "output_type": "stream",
     "text": [
      "63/63 - 0s - 2ms/step - accuracy: 0.8485 - loss: 0.4220\n"
     ]
    },
    {
     "data": {
      "text/plain": [
       "84.85000133514404"
      ]
     },
     "execution_count": 6,
     "metadata": {},
     "output_type": "execute_result"
    }
   ],
   "source": [
    "test_loss, test_acc = model_dnn.evaluate(X_test, y_test, verbose=2)\n",
    "test_acc * 100"
   ]
  },
  {
   "cell_type": "code",
   "execution_count": 7,
   "id": "12ec8fc2-ddd6-43a4-97e7-a6a5121fd1b0",
   "metadata": {},
   "outputs": [
    {
     "data": {
      "image/png": "[encoded data removed]",
      "text/plain": [
       "<Figure size 640x480 with 1 Axes>"
      ]
     },
     "metadata": {},
     "output_type": "display_data"
    },
    {
     "data": {
      "image/png": "[encoded data removed]",
      "text/plain": [
       "<Figure size 640x480 with 1 Axes>"
      ]
     },
     "metadata": {},
     "output_type": "display_data"
    }
   ],
   "source": [
    "plt.plot(history_dnn.history['loss'])\n",
    "plt.xlabel('Epoch')\n",
    "plt.ylabel('Loss')\n",
    "plt.legend(['train'], loc = 'upper right')\n",
    "plt.grid()\n",
    "\n",
    "plt.show()\n",
    "\n",
    "plt.plot(history_dnn.history['val_accuracy'], color = 'orange')\n",
    "plt.title('Model accuracy')\n",
    "plt.ylabel('accuracy')\n",
    "plt.xlabel('epoch')\n",
    "plt.legend(['test'], loc = 'lower right')\n",
    "plt.grid()\n",
    "\n",
    "plt.show()"
   ]
  },
  {
   "cell_type": "code",
   "execution_count": 8,
   "id": "0e6aa212-7e15-4a55-b32d-ce50b66b2504",
   "metadata": {},
   "outputs": [
    {
     "name": "stdout",
     "output_type": "stream",
     "text": [
      "\u001b[1m63/63\u001b[0m \u001b[32m━━━━━━━━━━━━━━━━━━━━\u001b[0m\u001b[37m\u001b[0m \u001b[1m0s\u001b[0m 513us/step\n"
     ]
    },
    {
     "data": {
      "image/png": "[encoded data removed]",
      "text/plain": [
       "<Figure size 700x600 with 2 Axes>"
      ]
     },
     "metadata": {},
     "output_type": "display_data"
    }
   ],
   "source": [
    "predictions_dnn = np.argmax(model_dnn.predict(X_test), axis=1)\n",
    "cm = confusion_matrix(y_test, predictions_dnn)\n",
    "\n",
    "plt.figure(figsize = (7, 6))\n",
    "sns.heatmap(cm, annot = True, fmt = '.1f', cmap = 'Blues')\n",
    "plt.title('Confusion matrix for DNN')\n",
    "plt.show()"
   ]
  },
  {
   "cell_type": "code",
   "execution_count": 9,
   "id": "308a1e82-5176-49fc-a17f-700440fece19",
   "metadata": {},
   "outputs": [],
   "source": [
    "model_dnn.save('DNN_model_sequential.keras')"
   ]
  },
  {
   "cell_type": "code",
   "execution_count": 10,
   "id": "648e4285-2173-42ed-a38c-4b0433be6776",
   "metadata": {},
   "outputs": [
    {
     "name": "stdout",
     "output_type": "stream",
     "text": [
      "\u001b[1m1/1\u001b[0m \u001b[32m━━━━━━━━━━━━━━━━━━━━\u001b[0m\u001b[37m\u001b[0m \u001b[1m0s\u001b[0m 25ms/step\n"
     ]
    },
    {
     "data": {
      "text/plain": [
       "array([3, 1, 2, 1, 0])"
      ]
     },
     "execution_count": 10,
     "metadata": {},
     "output_type": "execute_result"
    }
   ],
   "source": [
    "from tensorflow.keras.models import load_model\n",
    "\n",
    "loaded_model = load_model('DNN_model_sequential.keras')\n",
    "\n",
    "new_data = X_test[:5]\n",
    "predictions = np.argmax(loaded_model.predict(new_data), axis = 1)\n",
    "predictions"
   ]
  },
  {
   "cell_type": "code",
   "execution_count": null,
   "id": "b246be25-ce76-4895-8296-52aa96536298",
   "metadata": {},
   "outputs": [],
   "source": []
  }
 ],
 "metadata": {
  "kernelspec": {
   "display_name": "Python 3 (ipykernel)",
   "language": "python",
   "name": "python3"
  },
  "language_info": {
   "codemirror_mode": {
    "name": "ipython",
    "version": 3
   },
   "file_extension": ".py",
   "mimetype": "text/x-python",
   "name": "python",
   "nbconvert_exporter": "python",
   "pygments_lexer": "ipython3",
   "version": "3.11.9"
  }
 },
 "nbformat": 4,
 "nbformat_minor": 5
}
